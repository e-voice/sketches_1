{
 "cells": [
  {
   "cell_type": "code",
   "execution_count": 1303,
   "metadata": {
    "collapsed": false
   },
   "outputs": [
    {
     "data": {
      "text/plain": [
       "263192"
      ]
     },
     "execution_count": 1303,
     "metadata": {},
     "output_type": "execute_result"
    }
   ],
   "source": [
    "import numpy as np\n",
    "import pandas as pd\n",
    "import wave\n",
    "import os\n",
    "\n",
    "\n",
    "# Типы данных амплитуд\n",
    "types = {\n",
    "    1: np.int8,\n",
    "    2: np.int16,\n",
    "    4: np.int32,\n",
    "}\n",
    "\n",
    "\n",
    "# Открытие файла на рвзбор\n",
    "# Переделать !!!!\n",
    "\n",
    "#filepath = '/Users/nikita/Desktop/misc/DP_Flute02_86_Amin.wav'\n",
    "\n",
    "# Сделай общий вид\n",
    "\n",
    "def wave_open(filepath):\n",
    "    if not os.path.exists(filepath):\n",
    "        return None\n",
    "    with open(filepath, 'r') as file_handler:\n",
    "        wavf =  wave.open(filepath, mode='r')\n",
    "        return wavf\n",
    "\n",
    "wav = wave_open(\"/Users/nikita/Documents/python_3_filies/ML/ML_sound_1/output_a_train.wav\")\n",
    "# Различные вкусности из wave-файла\n",
    "def nchannals():\n",
    "    nchannals_var = wav.getnchannels()\n",
    "    return nchannals_var\n",
    "\n",
    "def sampwidth():\n",
    "    sampwidth_var = wav.getsampwidth()\n",
    "    return  sampwidth_var\n",
    "\n",
    "def framerate():\n",
    "    framerate_var = wav.getframerate()\n",
    "    return framerate_var\n",
    "\n",
    "def nframes():\n",
    "    nframes_var = wav.getnframes()\n",
    "    return  nframes_var\n",
    "\n",
    "def comptype():\n",
    "    comptype_var = wav.getcomptype()\n",
    "    return comptype_var\n",
    "\n",
    "def compname():\n",
    "    compname_var = wav.getcompname()\n",
    "    return compname_var\n",
    "\n",
    "\n",
    "def duration():\n",
    "    duration_var = nframes()/framerate()\n",
    "    return duration_var\n",
    "\n",
    "# Значения амплитуд в 10-ричной системе счисления\n",
    "def channel_data():\n",
    "    byte_content = wav.readframes(nframes())\n",
    "    samples = np.fromstring(byte_content, dtype=types[sampwidth()])\n",
    "    #for n in range(nchannals()):\n",
    "    channel = samples\n",
    "    return channel\n",
    "\n",
    "byte_content = wav.readframes(nframes())\n",
    "samples = np.fromstring(byte_content, dtype=types[sampwidth()])\n",
    "samples = samples[1000:]\n",
    "#samples = samples[0:1000]\n",
    "samples_log = np.log(samples+32768)\n",
    "len(samples)"
   ]
  },
  {
   "cell_type": "code",
   "execution_count": 1304,
   "metadata": {
    "collapsed": false
   },
   "outputs": [],
   "source": [
    "import matplotlib.pyplot as plt"
   ]
  },
  {
   "cell_type": "code",
   "execution_count": 1305,
   "metadata": {
    "collapsed": false
   },
   "outputs": [
    {
     "data": {
      "image/png": "[encoded data removed]",
      "text/plain": [
       "<matplotlib.figure.Figure at 0x10a0f5b38>"
      ]
     },
     "metadata": {},
     "output_type": "display_data"
    }
   ],
   "source": [
    "plt.plot(range(len(samples)),samples)\n",
    "plt.show()"
   ]
  },
  {
   "cell_type": "code",
   "execution_count": 1306,
   "metadata": {
    "collapsed": false
   },
   "outputs": [
    {
     "data": {
      "image/png": "[encoded data removed]",
      "text/plain": [
       "<matplotlib.figure.Figure at 0x10a3a15c0>"
      ]
     },
     "metadata": {},
     "output_type": "display_data"
    }
   ],
   "source": [
    "plt.plot(range(len(samples_log)),samples_log)\n",
    "plt.show()"
   ]
  },
  {
   "cell_type": "code",
   "execution_count": null,
   "metadata": {
    "collapsed": false
   },
   "outputs": [],
   "source": []
  },
  {
   "cell_type": "code",
   "execution_count": 1307,
   "metadata": {
    "collapsed": false
   },
   "outputs": [],
   "source": [
    "samples_fourier = np.fft.fft(samples_log)"
   ]
  },
  {
   "cell_type": "code",
   "execution_count": 1308,
   "metadata": {
    "collapsed": false
   },
   "outputs": [],
   "source": [
    "#samples_fourier"
   ]
  },
  {
   "cell_type": "code",
   "execution_count": 1309,
   "metadata": {
    "collapsed": false
   },
   "outputs": [],
   "source": [
    "#plt.plot(range(len(samples_fourier)),samples_fourier,)#'ro')\n",
    "#plt.show()"
   ]
  },
  {
   "cell_type": "code",
   "execution_count": 1310,
   "metadata": {
    "collapsed": false
   },
   "outputs": [
    {
     "data": {
      "text/plain": [
       "263192"
      ]
     },
     "execution_count": 1310,
     "metadata": {},
     "output_type": "execute_result"
    }
   ],
   "source": [
    "len(np.imag(samples_fourier))"
   ]
  },
  {
   "cell_type": "code",
   "execution_count": 1311,
   "metadata": {
    "collapsed": false
   },
   "outputs": [],
   "source": [
    "#plt.plot(np.real(samples_fourier),'ro')\n",
    "#plt.plot(np.imag(samples_fourier),np.real(samples_fourier))\n",
    "#plt.show()\n",
    "add = np.arange(1000)\n",
    "#sp = np.fft.fft(samples_fourier)\n",
    "freq = np.fft.fftfreq(add.shape[-1])\n",
    "#plt.plot(freq, samples_fourier.imag)\n",
    "#plt.show()"
   ]
  },
  {
   "cell_type": "code",
   "execution_count": 1312,
   "metadata": {
    "collapsed": false
   },
   "outputs": [
    {
     "name": "stdout",
     "output_type": "stream",
     "text": [
      "1000 1490 -\n",
      "2000 1614 -\n",
      "3000 1828 -\n",
      "4000 1857 -\n",
      "5000 1630 -\n",
      "6000 1657 -\n",
      "7000 1771 -\n",
      "8000 1579 -\n",
      "9000 1469 -\n",
      "10000 1718 -\n",
      "11000 1758 -\n",
      "12000 1818 -\n",
      "13000 19367 -\n",
      "14000 15178 -\n",
      "15000 7713 -\n",
      "16000 2414 -\n",
      "17000 2259 -\n",
      "18000 1811 -\n",
      "19000 1955 -\n",
      "20000 1644 -\n",
      "21000 1664 -\n",
      "22000 1841 -\n",
      "23000 1612 -\n",
      "24000 1592 -\n",
      "25000 1663 -\n",
      "26000 1503 -\n",
      "27000 1440 -\n",
      "28000 1523 -\n",
      "29000 2045 -\n",
      "30000 1630 -\n",
      "31000 1427 -\n",
      "32000 1965 -\n",
      "33000 1861 -\n",
      "34000 1797 -\n",
      "35000 1744 -\n",
      "36000 1770 -\n",
      "37000 1622 -\n",
      "38000 1877 -\n",
      "39000 1993 -\n",
      "40000 30802 -\n",
      "42000 566 393107\n",
      "43000 21591 522680\n",
      "44000 -1067 575225\n",
      "45000 -4268 807503\n",
      "46000 -29257 950516\n",
      "47000 -17257 865783\n",
      "48000 12385 1029343\n",
      "49000 66733 1382641\n",
      "50000 -10001 1096069\n",
      "51000 18447 884993\n",
      "52000 -54999 931861\n",
      "53000 7957 958431\n",
      "54000 35176 1041893\n",
      "55000 -184118 1223134\n",
      "56000 145035 1566686\n",
      "57000 -46541 1811949\n",
      "58000 95325 1628937\n",
      "59000 -3782 1644133\n",
      "60000 -37721 1588300\n",
      "61000 29492 1455849\n",
      "62000 -36316 1277874\n",
      "63000 5207 1078310\n",
      "64000 4192 926575\n",
      "65000 10855 963726\n",
      "66000 -5655 871349\n",
      "67000 9904 719265\n",
      "68000 2762 687372\n",
      "69000 -17940 702316\n",
      "70000 -46425 708098\n",
      "71000 -88000 736227\n",
      "72000 82251 923712\n",
      "73000 -7533 826373\n",
      "74000 37288 900221\n",
      "75000 70517 813918\n",
      "76000 -32677 871561\n",
      "77000 36571 918359\n",
      "78000 -16866 901965\n",
      "79000 -17677 853374\n",
      "80000 -21935 817073\n",
      "81000 2487 847721\n",
      "82000 -4067 751517\n",
      "83000 12326 642709\n",
      "84000 8380 750634\n",
      "85000 -2746 721186\n",
      "86000 -43517 715348\n",
      "87000 -100009 736095\n",
      "88000 78192 741707\n",
      "89000 -21563 772944\n",
      "90000 71120 752657\n",
      "91000 56547 771586\n",
      "92000 -25310 758509\n",
      "93000 6426 830394\n",
      "94000 -13033 794886\n",
      "95000 -4853 740669\n",
      "96000 -17469 821013\n",
      "97000 2803 760699\n",
      "98000 -1700 748307\n",
      "99000 5847 799012\n",
      "100000 -1459 751237\n",
      "101000 3636 611533\n",
      "102000 314 675494\n",
      "103000 -7296 531776\n",
      "104000 -13292 457154\n",
      "105000 9032 329568\n",
      "106000 4501 246348\n",
      "107000 -1631 194385\n",
      "108000 692 79377\n",
      "108000 48122 -\n",
      "109000 29122 -\n",
      "110000 28870 -\n",
      "111000 14613 -\n",
      "112000 13323 -\n",
      "113000 7903 -\n",
      "114000 6221 -\n",
      "115000 6187 -\n",
      "116000 5261 -\n",
      "117000 4878 -\n",
      "118000 5008 -\n",
      "119000 4901 -\n",
      "120000 3800 -\n",
      "121000 3348 -\n",
      "122000 3803 -\n",
      "123000 4429 -\n",
      "124000 3795 -\n",
      "125000 4079 -\n",
      "126000 3167 -\n",
      "127000 3440 -\n",
      "128000 3784 -\n",
      "129000 3332 -\n",
      "130000 3791 -\n",
      "131000 3392 -\n",
      "132000 4146 -\n",
      "133000 3115 -\n",
      "134000 2893 -\n",
      "135000 2856 -\n",
      "136000 2491 -\n",
      "137000 2558 -\n",
      "138000 2426 -\n",
      "139000 2473 -\n",
      "140000 2209 -\n",
      "141000 1855 -\n",
      "142000 2318 -\n",
      "143000 2295 -\n",
      "144000 1813 -\n",
      "145000 1681 -\n",
      "146000 1714 -\n",
      "147000 1411 -\n",
      "148000 1681 -\n",
      "149000 2019 -\n",
      "150000 1804 -\n",
      "151000 1823 -\n",
      "152000 2002 -\n",
      "153000 1707 -\n",
      "154000 2128 -\n",
      "155000 2959 -\n",
      "156000 2053 -\n",
      "157000 1729 -\n",
      "158000 1798 -\n",
      "159000 1880 -\n",
      "160000 1953 -\n",
      "161000 1737 -\n",
      "162000 2212 -\n",
      "163000 1556 -\n",
      "164000 1734 -\n",
      "165000 1794 -\n",
      "166000 1560 -\n",
      "167000 1442 -\n",
      "168000 1731 -\n",
      "169000 1613 -\n",
      "170000 1423 -\n",
      "171000 1798 -\n",
      "172000 1801 -\n",
      "173000 1672 -\n",
      "174000 1701 -\n",
      "175000 1689 -\n",
      "176000 1963 -\n",
      "177000 1580 -\n",
      "178000 1679 -\n",
      "179000 1694 -\n",
      "180000 1747 -\n",
      "181000 1815 -\n",
      "182000 2138 -\n",
      "183000 1840 -\n",
      "184000 1678 -\n",
      "185000 1692 -\n",
      "186000 1697 -\n",
      "187000 1520 -\n",
      "188000 1703 -\n",
      "189000 1925 -\n",
      "190000 1869 -\n",
      "191000 1734 -\n",
      "192000 1650 -\n",
      "193000 1668 -\n",
      "194000 1609 -\n",
      "195000 1626 -\n",
      "196000 1949 -\n",
      "197000 1650 -\n",
      "198000 1769 -\n",
      "199000 1566 -\n",
      "200000 1696 -\n",
      "201000 1426 -\n",
      "202000 1789 -\n",
      "203000 1779 -\n",
      "204000 1679 -\n",
      "205000 1895 -\n",
      "206000 1715 -\n",
      "207000 1416 -\n",
      "208000 1676 -\n",
      "209000 1888 -\n",
      "210000 1875 -\n",
      "211000 1743 -\n",
      "212000 1514 -\n",
      "213000 1667 -\n",
      "214000 1761 -\n",
      "215000 1786 -\n",
      "216000 1818 -\n",
      "217000 1699 -\n",
      "218000 1289 -\n",
      "219000 1678 -\n",
      "220000 1433 -\n",
      "221000 1552 -\n",
      "222000 1867 -\n",
      "223000 1763 -\n",
      "224000 1680 -\n",
      "225000 1494 -\n",
      "226000 1523 -\n",
      "227000 1804 -\n",
      "228000 1704 -\n",
      "229000 1543 -\n",
      "230000 1407 -\n",
      "231000 1653 -\n",
      "232000 1799 -\n",
      "233000 1428 -\n",
      "234000 1822 -\n",
      "235000 1724 -\n",
      "236000 1658 -\n",
      "237000 1921 -\n",
      "238000 1881 -\n",
      "239000 2474 -\n",
      "240000 2389 -\n",
      "241000 2285 -\n",
      "242000 2124 -\n",
      "243000 1954 -\n",
      "244000 1837 -\n",
      "245000 1726 -\n",
      "246000 1795 -\n",
      "247000 1657 -\n",
      "248000 1695 -\n",
      "249000 1651 -\n",
      "250000 1891 -\n",
      "251000 1579 -\n",
      "252000 1598 -\n",
      "253000 1719 -\n",
      "254000 1483 -\n",
      "255000 1435 -\n",
      "256000 1488 -\n",
      "257000 1618 -\n",
      "258000 2022 -\n",
      "259000 1507 -\n",
      "260000 1751 -\n",
      "261000 1708 -\n",
      "262000 1537 -\n",
      "263000 1879 -\n"
     ]
    }
   ],
   "source": [
    "fourier_samples = []\n",
    "begin = 0\n",
    "step = 1000\n",
    "end = step\n",
    "tmp_sample = samples[begin:end]\n",
    "fourier_samples.append(np.fft.fft(np.log(tmp_sample+32768)).real)\n",
    "\n",
    "\n",
    "while end < len(samples):\n",
    "    abs_sample = [abs(i) for i in tmp_sample]\n",
    "    if sum(abs_sample) > 50000:\n",
    "        tmp_sample = np.log(tmp_sample+32768)\n",
    "        tmp_fourier = np.fft.fft(tmp_sample).real\n",
    "        fourier_samples.append(tmp_fourier)\n",
    "        begin += step\n",
    "        end += step\n",
    "        tmp_sample = samples[begin:end]\n",
    "        print(end,sum(tmp_sample),sum(abs_sample))\n",
    "    else:\n",
    "        print(end,sum(abs_sample),'-')\n",
    "        begin += step\n",
    "        end += step\n",
    "        tmp_sample = samples[begin:end]\n",
    "\n",
    "\n",
    "        "
   ]
  },
  {
   "cell_type": "code",
   "execution_count": 1313,
   "metadata": {
    "collapsed": false
   },
   "outputs": [
    {
     "data": {
      "text/plain": [
       "68"
      ]
     },
     "execution_count": 1313,
     "metadata": {},
     "output_type": "execute_result"
    }
   ],
   "source": [
    "len(fourier_samples)"
   ]
  },
  {
   "cell_type": "code",
   "execution_count": 1314,
   "metadata": {
    "collapsed": true
   },
   "outputs": [],
   "source": [
    "import pandas as pd\n",
    "from collections import OrderedDict"
   ]
  },
  {
   "cell_type": "code",
   "execution_count": 1315,
   "metadata": {
    "collapsed": false
   },
   "outputs": [],
   "source": [
    "ids_f = [i for i in range(len(fourier_samples))]"
   ]
  },
  {
   "cell_type": "code",
   "execution_count": 1316,
   "metadata": {
    "collapsed": false
   },
   "outputs": [],
   "source": [
    "answer = pd.DataFrame(fourier_samples)\n",
    "#answer = pd.DataFrame(OrderedDict(ids=ids_f, fourier_sample=fourier_samples))[['ids', 'fourier_sample']]"
   ]
  },
  {
   "cell_type": "code",
   "execution_count": 1318,
   "metadata": {
    "collapsed": false
   },
   "outputs": [],
   "source": [
    "answer.to_csv('/Users/nikita/Documents/python_3_filies/ML/ML_sound_1/fourier_a_train.csv', index=False)"
   ]
  },
  {
   "cell_type": "code",
   "execution_count": null,
   "metadata": {
    "collapsed": false
   },
   "outputs": [],
   "source": []
  },
  {
   "cell_type": "code",
   "execution_count": 1252,
   "metadata": {
    "collapsed": false
   },
   "outputs": [
    {
     "data": {
      "image/png": "[encoded data removed]",
      "text/plain": [
       "<matplotlib.figure.Figure at 0x1096c5f60>"
      ]
     },
     "metadata": {},
     "output_type": "display_data"
    },
    {
     "name": "stdout",
     "output_type": "stream",
     "text": [
      "10392.9832318\n"
     ]
    }
   ],
   "source": [
    "#fourier_samples[0]\n",
    "which = 27\n",
    "\n",
    "\n",
    "ys = fourier_samples[which][1:]\n",
    "t = np.arange(len(ys))\n",
    "freq = np.fft.fftfreq(t.shape[-1])\n",
    "\n",
    "\n",
    "plt.plot(freq,ys,'r')\n",
    "plt.show()\n",
    "\n",
    "print(max(fourier_samples[which]))\n"
   ]
  },
  {
   "cell_type": "code",
   "execution_count": 769,
   "metadata": {
    "collapsed": false
   },
   "outputs": [
    {
     "data": {
      "image/png": "[encoded data removed]",
      "text/plain": [
       "<matplotlib.figure.Figure at 0x102752390>"
      ]
     },
     "metadata": {},
     "output_type": "display_data"
    }
   ],
   "source": [
    "t = np.arange(256)\n",
    "freq = np.fft.fftfreq(t.shape[-1])\n",
    "plt.plot(freq,np.cos(5*t)+np.cos(2*t))\n",
    "plt.show()"
   ]
  },
  {
   "cell_type": "code",
   "execution_count": 717,
   "metadata": {
    "collapsed": false
   },
   "outputs": [
    {
     "data": {
      "image/png": "[encoded data removed]",
      "text/plain": [
       "<matplotlib.figure.Figure at 0x1096c5f28>"
      ]
     },
     "metadata": {},
     "output_type": "display_data"
    }
   ],
   "source": [
    "import matplotlib.pyplot as plt\n",
    "#t = np.arange(256)\n",
    "sp = np.fft.fft(np.cos(5*t)+np.cos(2*t))\n",
    "freq = np.fft.fftfreq(t.shape[-1])\n",
    "plt.plot(freq, sp.real, freq, sp.imag)\n",
    "#plt.plot(t,np.cos(t))\n",
    "plt.show()"
   ]
  },
  {
   "cell_type": "code",
   "execution_count": null,
   "metadata": {
    "collapsed": true
   },
   "outputs": [],
   "source": []
  }
 ],
 "metadata": {
  "kernelspec": {
   "display_name": "Python 3",
   "language": "python",
   "name": "python3"
  },
  "language_info": {
   "codemirror_mode": {
    "name": "ipython",
    "version": 3
   },
   "file_extension": ".py",
   "mimetype": "text/x-python",
   "name": "python",
   "nbconvert_exporter": "python",
   "pygments_lexer": "ipython3",
   "version": "3.5.2"
  }
 },
 "nbformat": 4,
 "nbformat_minor": 2
}
