{
 "cells": [
  {
   "cell_type": "code",
   "execution_count": 20,
   "metadata": {
    "collapsed": true
   },
   "outputs": [],
   "source": [
    "''' Pandas - работа с csv '''\n",
    "import pandas as pd\n",
    "import matplotlib.pyplot as plt\n",
    "import numpy as np"
   ]
  },
  {
   "cell_type": "code",
   "execution_count": 21,
   "metadata": {
    "collapsed": false
   },
   "outputs": [],
   "source": [
    "''' Чтение csv и запись их в переменные '''\n",
    "fourier_data = pd.read_csv(\"/Users/nikita/Documents/python_3_filies/ML/ML_sound_1/fourier_samples.csv\", delimiter=',', sep='\\t')\n",
    "fourier_data_o = pd.read_csv(\"/Users/nikita/Documents/python_3_filies/ML/ML_sound_1/fourier_samples_o.csv\", delimiter=',', sep='\\t')\n",
    "fourier_data_filler = pd.read_csv(\"/Users/nikita/Documents/python_3_filies/ML/ML_sound_1/fourier_filler_train.csv\", delimiter=',', sep='\\t')\n",
    "fourier_data_a_train = pd.read_csv(\"/Users/nikita/Documents/python_3_filies/ML/ML_sound_1/fourier_a_train.csv\", delimiter=',', sep='\\t')\n",
    "\n"
   ]
  },
  {
   "cell_type": "code",
   "execution_count": 22,
   "metadata": {
    "collapsed": false
   },
   "outputs": [],
   "source": [
    "#fourier_data_a_train"
   ]
  },
  {
   "cell_type": "code",
   "execution_count": 23,
   "metadata": {
    "collapsed": false
   },
   "outputs": [],
   "source": [
    "''' Получение массива из строк (рядов) '''\n",
    "rows = fourier_data.iterrows()\n",
    "rows = list(rows)\n",
    "rows_o = fourier_data_o.iterrows()\n",
    "rows_o = list(rows_o)\n",
    "rows_filler = fourier_data_filler.iterrows()\n",
    "rows_filler = list(rows_filler)\n",
    "rows_a_train = fourier_data_a_train.iterrows()\n",
    "rows_a_train = list(rows_a_train)"
   ]
  },
  {
   "cell_type": "code",
   "execution_count": 24,
   "metadata": {
    "collapsed": false
   },
   "outputs": [],
   "source": [
    "''' Фурье-семплы \"Э\" - обучение '''\n",
    "samples_eee = []\n",
    "for index,i in enumerate(rows):\n",
    "    samples_eee.append([])\n",
    "    for j in i:\n",
    "        #print(j)\n",
    "        samples_eee[index].append(j)"
   ]
  },
  {
   "cell_type": "code",
   "execution_count": 25,
   "metadata": {
    "collapsed": false
   },
   "outputs": [],
   "source": [
    "''' Фурье семплы \"О\" - обучение '''\n",
    "samples_o = []\n",
    "for index,i in enumerate(rows_o):\n",
    "    samples_o.append([])\n",
    "    for j in i:\n",
    "        #print(index, j)\n",
    "        samples_o[index].append(j)"
   ]
  },
  {
   "cell_type": "code",
   "execution_count": 26,
   "metadata": {
    "collapsed": true
   },
   "outputs": [],
   "source": [
    "''' Фурье-семплы \"привет\"  filler - наполнитель (англ.) - обучение '''\n",
    "samples_filler = []\n",
    "for index,i in enumerate(rows_filler):\n",
    "    samples_filler.append([])\n",
    "    for j in i:\n",
    "        #print(index, j)\n",
    "        samples_filler[index].append(j)"
   ]
  },
  {
   "cell_type": "code",
   "execution_count": 27,
   "metadata": {
    "collapsed": true
   },
   "outputs": [],
   "source": [
    "''' Фурье-семплы \"А\" - обучение '''\n",
    "samples_a_train = []\n",
    "for index,i in enumerate(rows_a_train):\n",
    "    samples_a_train.append([])\n",
    "    for j in i:\n",
    "        #print(index, j)\n",
    "        samples_a_train[index].append(j)"
   ]
  },
  {
   "cell_type": "code",
   "execution_count": 28,
   "metadata": {
    "collapsed": false
   },
   "outputs": [],
   "source": [
    "''' Обрезка первого фурье-семпла, т.к. он не предоставляет ценности '''\n",
    "s_e = [samples_eee[i][1][1:] for i in range(len(samples_eee))]\n",
    "s_o = [samples_o[i][1][1:] for i in range(len(samples_o))]\n",
    "s_filler = [samples_filler[i][1][1:] for i in range(len(samples_filler))]\n",
    "s_a_train = [samples_a_train[i][1][1:] for i in range(len(samples_a_train))]"
   ]
  },
  {
   "cell_type": "code",
   "execution_count": 29,
   "metadata": {
    "collapsed": true
   },
   "outputs": [],
   "source": [
    "from sklearn.model_selection import train_test_split"
   ]
  },
  {
   "cell_type": "code",
   "execution_count": 30,
   "metadata": {
    "collapsed": false
   },
   "outputs": [
    {
     "data": {
      "text/plain": [
       "68"
      ]
     },
     "execution_count": 30,
     "metadata": {},
     "output_type": "execute_result"
    }
   ],
   "source": [
    "len(s_a_train)"
   ]
  },
  {
   "cell_type": "code",
   "execution_count": 31,
   "metadata": {
    "collapsed": false
   },
   "outputs": [],
   "source": [
    "''' Собсна) фичи и лейблы:  э - \"1\", а - \"-1\", остальное - \"0\" '''\n",
    "features = s_e+s_filler+s_o+s_a_train\n",
    "lables = [1]*len(s_e)+[0]*len(s_filler)+[0]*len(s_o)+[-1]*len(s_a_train)\n",
    "\n",
    "''' Numpy массив фич и лейблов '''\n",
    "X = np.array(features)\n",
    "y = np.array(lables)"
   ]
  },
  {
   "cell_type": "code",
   "execution_count": 32,
   "metadata": {
    "collapsed": false
   },
   "outputs": [],
   "source": [
    "''' Разбиение фич и лейблов на train и test для теста на точность '''\n",
    "X_train, X_test, y_train, y_test = train_test_split(X, y, test_size=0.1)\n"
   ]
  },
  {
   "cell_type": "code",
   "execution_count": 33,
   "metadata": {
    "collapsed": false
   },
   "outputs": [],
   "source": [
    "''' Различные методы для машинного обучения '''\n",
    "from sklearn.tree import DecisionTreeClassifier, DecisionTreeRegressor\n",
    "from sklearn.ensemble import RandomForestClassifier, GradientBoostingClassifier\n",
    "from sklearn.kernel_ridge import KernelRidge\n",
    "from sklearn.svm import SVR\n",
    "from sklearn.neural_network import MLPRegressor\n"
   ]
  },
  {
   "cell_type": "code",
   "execution_count": 34,
   "metadata": {
    "collapsed": false
   },
   "outputs": [],
   "source": [
    "''' Модель классификатора или регрессора '''\n",
    "clf = DecisionTreeRegressor() # MLPRegressor(activation='tanh') #SVR(kernel='rbf', C=1e3, gamma=0.1) #RandomForestClassifier() # DecisionTreeRegressor(max_depth=100) \n"
   ]
  },
  {
   "cell_type": "code",
   "execution_count": 35,
   "metadata": {
    "collapsed": false
   },
   "outputs": [
    {
     "data": {
      "text/plain": [
       "DecisionTreeRegressor(criterion='mse', max_depth=None, max_features=None,\n",
       "           max_leaf_nodes=None, min_impurity_split=1e-07,\n",
       "           min_samples_leaf=1, min_samples_split=2,\n",
       "           min_weight_fraction_leaf=0.0, presort=False, random_state=None,\n",
       "           splitter='best')"
      ]
     },
     "execution_count": 35,
     "metadata": {},
     "output_type": "execute_result"
    }
   ],
   "source": [
    "''' Обучение '''\n",
    "clf.fit(X,y)"
   ]
  },
  {
   "cell_type": "code",
   "execution_count": 36,
   "metadata": {
    "collapsed": false
   },
   "outputs": [
    {
     "data": {
      "text/plain": [
       "1.0"
      ]
     },
     "execution_count": 36,
     "metadata": {},
     "output_type": "execute_result"
    }
   ],
   "source": [
    "''' Точность, она тут немного не честная '''\n",
    "acc = clf.score(X_test,y_test)\n",
    "acc"
   ]
  },
  {
   "cell_type": "markdown",
   "metadata": {},
   "source": [
    "#  а вот теперь становится интересно\n",
    "распознавание"
   ]
  },
  {
   "cell_type": "code",
   "execution_count": 37,
   "metadata": {
    "collapsed": false
   },
   "outputs": [],
   "source": [
    "''' Данные для распознавания '''\n",
    "fourier_data_e_test = pd.read_csv(\"/Users/nikita/Documents/python_3_filies/ML/ML_sound_1/fourier_samples_e_test.csv\", delimiter=',', sep='\\t')\n",
    "fourier_data_o_test = pd.read_csv(\"/Users/nikita/Documents/python_3_filies/ML/ML_sound_1/fourier_samples_o_test.csv\", delimiter=',', sep='\\t')\n",
    "fourier_data_a_test = pd.read_csv(\"/Users/nikita/Documents/python_3_filies/ML/ML_sound_1/fourier_samples_a_test.csv\", delimiter=',', sep='\\t')\n",
    "fourier_data_i_test = pd.read_csv(\"/Users/nikita/Documents/python_3_filies/ML/ML_sound_1/fourier_i_test.csv\", delimiter=',', sep='\\t')\n",
    "fourier_vot_e = pd.read_csv(\"/Users/nikita/Documents/python_3_filies/ML/ML_sound_1/fourier_vot_e.csv\", delimiter=',', sep='\\t')\n",
    "fourier_eks = pd.read_csv(\"/Users/nikita/Documents/python_3_filies/ML/ML_sound_1/fourier_eks.csv\", delimiter=',', sep='\\t')\n",
    "\n"
   ]
  },
  {
   "cell_type": "code",
   "execution_count": null,
   "metadata": {
    "collapsed": true
   },
   "outputs": [],
   "source": []
  },
  {
   "cell_type": "code",
   "execution_count": 38,
   "metadata": {
    "collapsed": true
   },
   "outputs": [],
   "source": [
    "''' Получение массива из строк (рядов) '''\n",
    "rows_e_test = fourier_data_e_test.iterrows()\n",
    "rows_e_test = list(rows_e_test)\n",
    "rows_o_test = fourier_data_o_test.iterrows()\n",
    "rows_o_test = list(rows_o_test)\n",
    "rows_a_test = fourier_data_a_test.iterrows()\n",
    "rows_a_test = list(rows_a_test)\n",
    "rows_i_test = fourier_data_i_test.iterrows()\n",
    "rows_i_test = list(rows_i_test)\n",
    "rows_vot_e = fourier_vot_e.iterrows()\n",
    "rows_vot_e = list(rows_vot_e)\n",
    "rows_eks = fourier_eks.iterrows()\n",
    "rows_eks = list(rows_eks)\n",
    "\n"
   ]
  },
  {
   "cell_type": "code",
   "execution_count": 39,
   "metadata": {
    "collapsed": false
   },
   "outputs": [],
   "source": [
    "''' Фурье-семпл \"Э\" - тест '''\n",
    "samples_e_test = []\n",
    "for index,i in enumerate(rows_e_test):\n",
    "    samples_e_test.append([])\n",
    "    for j in i:\n",
    "        samples_e_test[index].append(j)"
   ]
  },
  {
   "cell_type": "code",
   "execution_count": 40,
   "metadata": {
    "collapsed": false
   },
   "outputs": [],
   "source": [
    "''' Фурье-семпл \"О\" - тест '''\n",
    "samples_o_test = []\n",
    "for index,i in enumerate(rows_o_test):\n",
    "    samples_o_test.append([])\n",
    "    for j in i:\n",
    "        #print(index, j)\n",
    "        samples_o_test[index].append(j)"
   ]
  },
  {
   "cell_type": "code",
   "execution_count": 41,
   "metadata": {
    "collapsed": false
   },
   "outputs": [],
   "source": [
    "''' Фурье-семпл \"А\" - тест '''\n",
    "samples_a_test = []\n",
    "for index,i in enumerate(rows_a_test):\n",
    "    samples_a_test.append([])\n",
    "    for j in i:\n",
    "        #print(index, j)\n",
    "        samples_a_test[index].append(j)"
   ]
  },
  {
   "cell_type": "code",
   "execution_count": 42,
   "metadata": {
    "collapsed": true
   },
   "outputs": [],
   "source": [
    "''' Фурье-семпл \"И\" - тест '''\n",
    "samples_i_test = []\n",
    "for index,i in enumerate(rows_i_test):\n",
    "    samples_i_test.append([])\n",
    "    for j in i:\n",
    "        #print(index, j)\n",
    "        samples_i_test[index].append(j)"
   ]
  },
  {
   "cell_type": "code",
   "execution_count": 43,
   "metadata": {
    "collapsed": true
   },
   "outputs": [],
   "source": [
    "''' Фурье-семпл чего-то)) - тест '''\n",
    "samples_vot_e = []\n",
    "for index,i in enumerate(rows_vot_e):\n",
    "    samples_vot_e.append([])\n",
    "    for j in i:\n",
    "        #print(index, j)\n",
    "        samples_vot_e[index].append(j)"
   ]
  },
  {
   "cell_type": "code",
   "execution_count": 44,
   "metadata": {
    "collapsed": true
   },
   "outputs": [],
   "source": [
    "''' Фурье-семпл \"Эээксаватора\" - тест '''\n",
    "samples_eks = []\n",
    "for index,i in enumerate(rows_eks):\n",
    "    samples_eks.append([])\n",
    "    for j in i:\n",
    "        #print(index, j)\n",
    "        samples_eks[index].append(j)"
   ]
  },
  {
   "cell_type": "code",
   "execution_count": 45,
   "metadata": {
    "collapsed": false
   },
   "outputs": [
    {
     "data": {
      "text/plain": [
       "119"
      ]
     },
     "execution_count": 45,
     "metadata": {},
     "output_type": "execute_result"
    }
   ],
   "source": [
    "len(samples_eks)"
   ]
  },
  {
   "cell_type": "code",
   "execution_count": 46,
   "metadata": {
    "collapsed": false
   },
   "outputs": [],
   "source": [
    "''' Обрезка первого фурье-семпла, т.к. он не предоставляет ценности '''\n",
    "s_e = [samples_e_test[i][1][1:] for i in range(len(samples_e_test))]\n",
    "s_o = [samples_o_test[i][1][1:] for i in range(len(samples_o_test))]\n",
    "s_a = [samples_a_test[i][1][1:] for i in range(len(samples_a_test))]\n",
    "s_i = [samples_i_test[i][1][1:] for i in range(len(samples_i_test))]\n",
    "s_vot_e = [samples_vot_e[i][1][1:] for i in range(len(samples_vot_e))]\n",
    "s_eks = [samples_eks[i][1][1:] for i in range(len(samples_eks))]"
   ]
  },
  {
   "cell_type": "code",
   "execution_count": 47,
   "metadata": {
    "collapsed": false
   },
   "outputs": [
    {
     "data": {
      "text/plain": [
       "array([ 0.,  0.,  0.,  1.,  1.,  1.,  1.,  1.,  1.,  1.,  1.,  1.,  1.,\n",
       "        1.,  1.,  1.,  1.,  1.,  1.,  1.,  1.,  0.,  1.,  1.,  1.,  1.,\n",
       "        1.,  1.,  1.,  1.,  1.,  1.,  1.,  1.,  1.,  1.,  0.,  1.,  1.,\n",
       "        1.,  1.,  1.,  1.,  1.,  1.,  1.,  1.,  1.,  0.,  1.,  1.,  1.,\n",
       "        1.,  1.,  1.,  1.,  1.,  1.,  0.,  1.,  1.,  1.,  1.,  1.,  1.,\n",
       "        1.,  1.,  1.,  1.,  1.])"
      ]
     },
     "execution_count": 47,
     "metadata": {},
     "output_type": "execute_result"
    }
   ],
   "source": [
    "''' Предсказание \"Эээ\" '''\n",
    "mass_result_e = clf.predict(s_e)\n",
    "mass_result_e"
   ]
  },
  {
   "cell_type": "code",
   "execution_count": 2094,
   "metadata": {
    "collapsed": false
   },
   "outputs": [
    {
     "data": {
      "text/plain": [
       "0.9142857142857143"
      ]
     },
     "execution_count": 2094,
     "metadata": {},
     "output_type": "execute_result"
    }
   ],
   "source": [
    "''' Проверка точности, но она через жопу, можно на неё забить '''\n",
    "accur_e = list(mass_result_e).count(1)/len(mass_result_e)\n",
    "confidence = list(mass_result_e).count(1)/len(mass_result_e)\n",
    "\n",
    "\n",
    "accur_e"
   ]
  },
  {
   "cell_type": "code",
   "execution_count": 48,
   "metadata": {
    "collapsed": false
   },
   "outputs": [
    {
     "data": {
      "text/plain": [
       "array([ 0.,  0.,  0.,  0.,  0.,  0.,  0.,  0.,  0.,  0.,  0.,  0.,  0.,\n",
       "        0.,  0.,  0.,  0.,  0., -1.,  0.,  0.,  0.,  0.,  0.,  0.,  0.,\n",
       "        0.,  0.,  0.,  0.,  0.,  0.,  0., -1.,  0., -1.,  0., -1.,  0.,\n",
       "        0.,  0.,  0.,  0.,  0.,  0.,  0.,  1.,  0.,  0.,  0.,  0.,  0.,\n",
       "        0.,  0.,  0.,  0.,  0.,  0.,  0.,  0.,  0., -1.,  0.,  0.,  0.,\n",
       "       -1.,  0., -1.,  0.,  1.,  0.,  0.,  0., -1.,  0.,  0.,  0.,  0.,\n",
       "        1., -1., -1.,  0.,  0.,  0.,  0., -1.,  0., -1.,  0.,  0.])"
      ]
     },
     "execution_count": 48,
     "metadata": {},
     "output_type": "execute_result"
    }
   ],
   "source": [
    "''' Предсказание \"Ооо\" '''\n",
    "mass_result_o = clf.predict(s_o)\n",
    "mass_result_o"
   ]
  },
  {
   "cell_type": "code",
   "execution_count": 49,
   "metadata": {
    "collapsed": false
   },
   "outputs": [
    {
     "data": {
      "text/plain": [
       "0.03333333333333333"
      ]
     },
     "execution_count": 49,
     "metadata": {},
     "output_type": "execute_result"
    }
   ],
   "source": [
    "''' Тоже какие-то точности, на которые можно забить '''\n",
    "accur_o = list(mass_result_o).count(0)/len(mass_result_o)\n",
    "\n",
    "confidence = list(mass_result_o).count(1)/len(mass_result_o)\n",
    "confidence"
   ]
  },
  {
   "cell_type": "code",
   "execution_count": 50,
   "metadata": {
    "collapsed": false
   },
   "outputs": [
    {
     "data": {
      "text/plain": [
       "array([-1., -1., -1., -1., -1.,  1., -1., -1., -1., -1., -1.,  0., -1.,\n",
       "       -1.,  0.,  1.,  0., -1., -1., -1., -1.,  0., -1.,  0., -1.,  0.,\n",
       "       -1., -1.,  0., -1., -1., -1., -1.,  0., -1., -1., -1., -1., -1.,\n",
       "       -1., -1., -1., -1., -1., -1., -1., -1., -1., -1.,  1.,  1., -1.,\n",
       "       -1., -1., -1., -1.,  0., -1., -1., -1., -1., -1., -1., -1., -1.,\n",
       "        0., -1., -1., -1., -1., -1.,  1., -1., -1., -1.,  1.,  1., -1.,\n",
       "       -1.,  1.])"
      ]
     },
     "execution_count": 50,
     "metadata": {},
     "output_type": "execute_result"
    }
   ],
   "source": [
    "''' Предсказание \"Ааа\" '''\n",
    "mass_result_a = clf.predict(s_a)\n",
    "mass_result_a"
   ]
  },
  {
   "cell_type": "code",
   "execution_count": 2100,
   "metadata": {
    "collapsed": false
   },
   "outputs": [
    {
     "data": {
      "text/plain": [
       "0.725"
      ]
     },
     "execution_count": 2100,
     "metadata": {},
     "output_type": "execute_result"
    }
   ],
   "source": [
    "''' Тоже можно забить '''\n",
    "confidence = list(mass_result_a).count(-1)/len(mass_result_a)\n",
    "confidence"
   ]
  },
  {
   "cell_type": "code",
   "execution_count": 52,
   "metadata": {
    "collapsed": false
   },
   "outputs": [
    {
     "data": {
      "text/plain": [
       "array([ 0.,  0.,  0.,  0.,  0.,  0.,  0.,  0.,  0., -1., -1., -1.,  0.,\n",
       "        0.,  0.,  0.,  0.,  1.,  0., -1.,  0., -1., -1., -1.,  0., -1.,\n",
       "        0.,  0.,  0.,  0.,  0.,  0.,  0.,  0.,  0.,  0.,  0.,  0.,  0.,\n",
       "        0.,  0.,  1.,  0.,  0.,  0.,  0.,  0.,  0.,  0.,  0.,  1.,  0.,\n",
       "        0.,  1.,  0.,  0.,  0.,  0., -1.,  0.,  0.,  0.,  0.,  0.,  0.,\n",
       "        0.,  0.,  0.,  0.,  0.,  0.,  0.,  0.,  0.])"
      ]
     },
     "execution_count": 52,
     "metadata": {},
     "output_type": "execute_result"
    }
   ],
   "source": [
    "''' Предсказание \"Иии\" '''\n",
    "mass_result_i = clf.predict(s_i)\n",
    "mass_result_i"
   ]
  },
  {
   "cell_type": "code",
   "execution_count": 53,
   "metadata": {
    "collapsed": false
   },
   "outputs": [
    {
     "data": {
      "text/plain": [
       "0.05405405405405406"
      ]
     },
     "execution_count": 53,
     "metadata": {},
     "output_type": "execute_result"
    }
   ],
   "source": [
    "''' Опять забить '''\n",
    "confidence = list(mass_result_i).count(1)/len(mass_result_i)\n",
    "confidence"
   ]
  },
  {
   "cell_type": "code",
   "execution_count": 2103,
   "metadata": {
    "collapsed": false
   },
   "outputs": [
    {
     "data": {
      "text/plain": [
       "array([ 0.,  1.,  1.,  1.,  1., -1.,  1.,  0.,  0.,  0.,  0.,  0.,  1.,\n",
       "        0.,  0.,  0.,  1.,  0.,  1.,  0.,  1.,  0.,  1.,  1.,  0.,  0.,\n",
       "        1.,  1.,  0.,  1.,  0.,  1.,  0.,  0.,  0.,  0.,  1.,  1., -1.,\n",
       "        0.,  0.,  0.,  0.,  0.,  0.,  0.,  0.,  0.,  0.,  0.,  0.,  0.,\n",
       "        0.,  0.,  0.,  0.,  0.,  0.,  0.,  1.,  0.,  1.,  1.,  0.,  1.,\n",
       "        0.,  1.,  1.,  1.,  1.,  1.,  1.,  0.,  1.,  1.,  1.,  1.,  1.,\n",
       "        0., -1.,  1.,  0., -1.,  1.,  0.,  0.,  1.,  1.,  1.,  1.,  1.,\n",
       "        1.,  1.,  1.,  1.,  1.,  1.,  1.,  1.,  1.,  1.,  1.,  1.,  0.,\n",
       "        1.,  1.,  1.,  0.,  0.,  1.,  1.,  1.,  1.,  1.,  1., -1.,  1.,\n",
       "        1.,  0.,  1.,  1.,  1.,  1.,  0.,  1.,  1.,  0.,  1.,  1.,  1.,\n",
       "        1.,  1.,  1.,  1.,  1.,  1.,  1.,  1.,  1.,  1.,  1.,  1.,  0.,\n",
       "        1.,  1.,  0.,  0.,  0., -1.,  1.,  0.,  0.])"
      ]
     },
     "execution_count": 2103,
     "metadata": {},
     "output_type": "execute_result"
    }
   ],
   "source": [
    "''' Предсказание чего-то в vot_e '''\n",
    "mass_result_vot_e = clf.predict(s_vot_e)\n",
    "mass_result_vot_e"
   ]
  },
  {
   "cell_type": "code",
   "execution_count": 2057,
   "metadata": {
    "collapsed": false
   },
   "outputs": [
    {
     "data": {
      "text/plain": [
       "array([ 0., -1.,  0.,  0.,  0.,  0.,  0.,  1.,  1.,  0.,  0.,  0.,  0.,\n",
       "        0.,  0.,  0.,  1.,  0.,  1.,  1.,  1.,  1.,  1., -1.,  1.,  0.,\n",
       "        1.,  1.,  1.,  0.,  0.,  0.,  1.,  1.,  0.,  1.,  0., -1.,  0.,\n",
       "        1.,  0.,  1.,  1.,  1.,  1.,  0.,  0.,  0.,  0.,  1.,  0.,  0.,\n",
       "        1.,  1.,  1.,  1.,  1.,  1.,  0.,  0.,  0.,  0.,  1.,  0.,  1.,\n",
       "        0.,  1.,  0.,  0., -1., -1.,  0.,  0.,  0.,  0.,  0., -1., -1.,\n",
       "       -1., -1., -1., -1., -1.,  1.,  1.,  0.,  0.,  0.,  0.,  0.,  1.,\n",
       "        1.,  0.,  1.,  0.,  1.,  0.,  1.,  0.,  0.,  1.,  0.,  0.,  0.,\n",
       "        0.,  0., -1.,  0.,  0.,  0.,  0.,  1.,  1.,  1.,  0.,  1.,  0.,\n",
       "        1.,  1.])"
      ]
     },
     "execution_count": 2057,
     "metadata": {},
     "output_type": "execute_result"
    }
   ],
   "source": [
    "''' Предсказание \"Экскаватора\" '''\n",
    "mass_result_eks = clf.predict(s_eks)\n",
    "mass_result_eks"
   ]
  },
  {
   "cell_type": "code",
   "execution_count": 59,
   "metadata": {
    "collapsed": false
   },
   "outputs": [
    {
     "name": "stderr",
     "output_type": "stream",
     "text": [
      "/Library/Frameworks/Python.framework/Versions/3.5/lib/python3.5/site-packages/matplotlib/collections.py:806: RuntimeWarning: invalid value encountered in sqrt\n",
      "  scale = np.sqrt(self._sizes) * dpi / 72.0 * self._factor\n"
     ]
    },
    {
     "data": {
      "image/png": "[encoded data removed]",
      "text/plain": [
       "<matplotlib.figure.Figure at 0x10b124240>"
      ]
     },
     "metadata": {},
     "output_type": "display_data"
    }
   ],
   "source": [
    "''' Дичь, которая хз как работает, а вообще должен быть график модели '''\n",
    "from sklearn.manifold import TSNE\n",
    "\n",
    "tsne = TSNE()\n",
    "Y = tsne.fit_transform(X)\n",
    "\n",
    "color = ['green', 'blue', 'red']\n",
    "plt.scatter(Y[:, -1],Y[:,0], Y[:, 1], c=color)\n",
    "plt.axis('tight')\n",
    "plt.show()"
   ]
  },
  {
   "cell_type": "code",
   "execution_count": null,
   "metadata": {
    "collapsed": true
   },
   "outputs": [],
   "source": []
  },
  {
   "cell_type": "code",
   "execution_count": null,
   "metadata": {
    "collapsed": true
   },
   "outputs": [],
   "source": []
  }
 ],
 "metadata": {
  "kernelspec": {
   "display_name": "Python 3",
   "language": "python",
   "name": "python3"
  },
  "language_info": {
   "codemirror_mode": {
    "name": "ipython",
    "version": 3
   },
   "file_extension": ".py",
   "mimetype": "text/x-python",
   "name": "python",
   "nbconvert_exporter": "python",
   "pygments_lexer": "ipython3",
   "version": "3.5.2"
  }
 },
 "nbformat": 4,
 "nbformat_minor": 2
}
