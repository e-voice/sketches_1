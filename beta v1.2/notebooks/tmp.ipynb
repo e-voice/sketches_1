{
 "cells": [
  {
   "cell_type": "code",
   "execution_count": null,
   "metadata": {
    "collapsed": true
   },
   "outputs": [],
   "source": [
    "''' numpy - типов данных\n",
    "    pandas - чтения csv \n",
    "    wave - чтение wave файла\n",
    "    os - проверка существования пути файла\n",
    "'''\n",
    "\n",
    "import numpy as np\n",
    "import pandas as pd\n",
    "import wave\n",
    "import os\n",
    "\n",
    "\n",
    "# Типы данных амплитуд\n",
    "types = {\n",
    "    1: np.int8,\n",
    "    2: np.int16,\n",
    "    4: np.int32,\n",
    "}\n",
    "\n",
    "\n",
    "# Открытие файла на разбор\n",
    "def wave_open(filepath):\n",
    "    if not os.path.exists(filepath):\n",
    "        return None\n",
    "    with open(filepath, 'r') as file_handler:\n",
    "        wavf =  wave.open(filepath, mode='r')\n",
    "        return wavf\n",
    "\n",
    "''' Путь к файлу '''\n",
    "wav = wave_open(\"/Users/nikita/Documents/python_3_filies/ML/ML_sound_1/output_vot_e.wav\")\n",
    "\n",
    "# Различные вкусности из wave-файла\n",
    "''' Кол-во каналов '''\n",
    "def nchannals():\n",
    "    nchannals_var = wav.getnchannels()\n",
    "    return nchannals_var\n",
    "\n",
    "''' Длина семпла (int8, int16, int32) '''\n",
    "def sampwidth():\n",
    "    sampwidth_var = wav.getsampwidth()\n",
    "    return  sampwidth_var\n",
    "\n",
    "''' Частота окон '''\n",
    "def framerate():\n",
    "    framerate_var = wav.getframerate()\n",
    "    return framerate_var\n",
    "\n",
    "''' Кол-во окон '''\n",
    "def nframes():\n",
    "    nframes_var = wav.getnframes()\n",
    "    return  nframes_var\n",
    "\n",
    "''' Тип сжатия '''\n",
    "def comptype():\n",
    "    comptype_var = wav.getcomptype()\n",
    "    return comptype_var\n",
    "\n",
    "''' Название сжатия '''\n",
    "def compname():\n",
    "    compname_var = wav.getcompname()\n",
    "    return compname_var\n",
    "\n",
    "''' Длительность записи '''\n",
    "def duration():\n",
    "    duration_var = nframes()/framerate()\n",
    "    return duration_var\n",
    "\n",
    "# Значения амплитуд в 10-ричной системе счисления\n",
    "def channel_data():\n",
    "    byte_content = wav.readframes(nframes())\n",
    "    samples = np.fromstring(byte_content, dtype=types[sampwidth()])\n",
    "    #for n in range(nchannals()):\n",
    "    channel = samples\n",
    "    return channel\n",
    "\n",
    "''' Битовые данные'''\n",
    "byte_content = wav.readframes(nframes())\n",
    "\n",
    "''' Представление битов в int8(16,32) '''\n",
    "samples = np.fromstring(byte_content, dtype=types[sampwidth()])\n",
    "\n",
    "''' Образка первых 1000 семплов, т.к. там ненужный шум, позже можно будет убрать '''\n",
    "samples = samples[1000:]\n",
    "#samples = samples[131000:132000]\n",
    "\n",
    "''' Логарифмирование семплов + минимальное значение int16 (т.к. запись была в int16), ибо логарифм не может иметь отрицательный аргумент '''\n",
    "samples_log = np.log(samples+32768)\n",
    "len(samples)"
   ]
  },
  {
   "cell_type": "code",
   "execution_count": null,
   "metadata": {
    "collapsed": true
   },
   "outputs": [],
   "source": [
    "''' График оригинальных семплов '''\n",
    "plt.plot(range(len(samples)),samples)\n",
    "plt.show()"
   ]
  },
  {
   "cell_type": "code",
   "execution_count": null,
   "metadata": {
    "collapsed": true
   },
   "outputs": [],
   "source": [
    "''' График прологарифмированных семплов '''\n",
    "plt.plot(range(len(samples_log)),samples_log)\n",
    "plt.show()"
   ]
  },
  {
   "cell_type": "code",
   "execution_count": null,
   "metadata": {
    "collapsed": true
   },
   "outputs": [],
   "source": [
    "''' Преобразование Фурье из прологарифмированных семплов '''\n",
    "samples_fourier = np.fft.fft(samples_log)"
   ]
  },
  {
   "cell_type": "code",
   "execution_count": null,
   "metadata": {
    "collapsed": true
   },
   "outputs": [],
   "source": [
    "''' Действительная часть пребразования фурье '''\n",
    "plt.plot(range(len(samples_fourier[1:])),samples_fourier.real[1:],)#'ro')\n",
    "plt.show()"
   ]
  },
  {
   "cell_type": "code",
   "execution_count": null,
   "metadata": {
    "collapsed": true
   },
   "outputs": [],
   "source": [
    "import pyaudio\n",
    "import wave\n",
    "\n",
    "''' Параметры wave файла '''\n",
    "CHUNK = 1024\n",
    "FORMAT = pyaudio.paInt16\n",
    "CHANNELS = 2\n",
    "RATE = 44100\n",
    "RECORD_SECONDS = 3\n",
    "\n",
    "''' Путь к файлу '''\n",
    "WAVE_OUTPUT_FILENAME = \"/Users/nikita/Documents/python_3_filies/ML/ML_sound_1/output_vot_e.wav\"\n",
    "\n",
    "''' Класс подключения к портам аудио '''\n",
    "p = pyaudio.PyAudio()\n",
    "\n",
    "''' Иницилиазыция открытия с параметрами '''\n",
    "stream = p.open(format=FORMAT,\n",
    "                channels=CHANNELS,\n",
    "                rate=RATE,\n",
    "                input=True,\n",
    "                frames_per_buffer=CHUNK)\n",
    "\n",
    "print(\"* recording\")\n",
    "\n",
    "frames = []\n",
    "\n",
    "for i in range(0, int(RATE / CHUNK * RECORD_SECONDS)):\n",
    "    data = stream.read(CHUNK)\n",
    "    frames.append(data)\n",
    "\n",
    "print(\"* done recording\")\n",
    "\n",
    "''' Завершение записи '''\n",
    "stream.stop_stream()\n",
    "stream.close()\n",
    "p.terminate()\n",
    "\n",
    "''' Запись в файл '''\n",
    "wf = wave.open(WAVE_OUTPUT_FILENAME, 'wb')\n",
    "wf.setnchannels(CHANNELS)\n",
    "wf.setsampwidth(p.get_sample_size(FORMAT))\n",
    "wf.setframerate(RATE)\n",
    "wf.writeframes(b''.join(frames))\n",
    "wf.close()"
   ]
  }
 ],
 "metadata": {
  "kernelspec": {
   "display_name": "Python 3",
   "language": "python",
   "name": "python3"
  },
  "language_info": {
   "codemirror_mode": {
    "name": "ipython",
    "version": 3
   },
   "file_extension": ".py",
   "mimetype": "text/x-python",
   "name": "python",
   "nbconvert_exporter": "python",
   "pygments_lexer": "ipython3",
   "version": "3.5.2"
  }
 },
 "nbformat": 4,
 "nbformat_minor": 2
}
